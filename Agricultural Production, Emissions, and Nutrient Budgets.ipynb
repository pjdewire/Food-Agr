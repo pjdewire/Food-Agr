{
 "cells": [
  {
   "cell_type": "code",
   "execution_count": 1,
   "metadata": {},
   "outputs": [],
   "source": [
    "import pandas as pd\n",
    "import plotly\n",
    "import plotly.express as px\n",
    "import ipywidgets as widgets\n",
    "from IPython.display import display"
   ]
  },
  {
   "cell_type": "code",
   "execution_count": 3,
   "metadata": {},
   "outputs": [],
   "source": [
    "shared_id_vars = ['Area Code', 'Area', 'Item Code', 'Item', 'Element Code', 'Element', 'Unit']\n",
    "necessary_id_vars = ['Area', 'Item', 'Element', 'Unit', 'Year', 'value']"
   ]
  },
  {
   "cell_type": "code",
   "execution_count": 4,
   "metadata": {},
   "outputs": [],
   "source": [
    "df_configs = {\n",
    "    'df_agr': {\n",
    "        'filename': 'Value_of_Production_E_All_Area_Groups_NOFLAG.csv',\n",
    "        'element': 'Gross Production Value (constant 2014-2016 million US$)',\n",
    "        'value_name': 'Agr_Production_Value'\n",
    "    },\n",
    "    'df_emi': {\n",
    "        'filename': 'Emissions_Agriculture_Agriculture_total_E_All_Area_Groups_NOFLAG.csv',\n",
    "        'element': 'Emissions (CO2eq)',\n",
    "        'value_name': 'Emissions_Value'\n",
    "    },\n",
    "    'df_inp': {\n",
    "        'filename': 'Inputs_FertilizersNutrient_E_All_Area_Groups_NOFLAG.csv',\n",
    "        'element': 'Agricultural Use',\n",
    "        'value_name': 'Fertilizer_Value'\n",
    "    }\n",
    "}\n",
    "\n",
    "data = {}\n",
    "for df_name, config in df_configs.items():\n",
    "    df = pd.read_csv(config['filename'], encoding='latin1')\n",
    "    df = df.melt(id_vars = shared_id_vars, var_name = 'Year')\n",
    "    df = df[necessary_id_vars]\n",
    "    df = df[df.Element == config['element']]\n",
    "    df = df.rename(columns={'value': config['value_name']})\n",
    "    data[df_name] = df"
   ]
  },
  {
   "cell_type": "code",
   "execution_count": 5,
   "metadata": {},
   "outputs": [],
   "source": [
    "df_agr = data['df_agr']\n",
    "df_emi = data['df_emi']\n",
    "df_inp = data['df_inp']"
   ]
  },
  {
   "cell_type": "code",
   "execution_count": 6,
   "metadata": {},
   "outputs": [],
   "source": [
    "# Add subtotals\n",
    "necessary_inp_columns=['Area', 'Item', 'Element', 'Unit', 'Year', 'Fertilizer_Value']\n",
    "df_inp_subtotals = pd.DataFrame(columns=necessary_inp_columns)\n",
    "for area_year, sub_df in df_inp.groupby(['Area', 'Year']):\n",
    "    subt = pd.DataFrame([[area_year[0], 'Total Fertilizer', 'Agricultural Use', 'tonnes', area_year[1], sub_df.Fertilizer_Value.sum()]], columns=necessary_inp_columns)\n",
    "    df_inp = df_inp.append(subt)\n",
    "\n",
    "# Remove projections\n",
    "projected_years = ['Y2019', 'Y2030', 'Y2050']\n",
    "df_emi = df_emi[~df_emi.Year.isin(projected_years)]"
   ]
  },
  {
   "cell_type": "code",
   "execution_count": 7,
   "metadata": {},
   "outputs": [
    {
     "name": "stderr",
     "output_type": "stream",
     "text": [
      "<ipython-input-7-6512a5b0b428>:6: SettingWithCopyWarning: \n",
      "A value is trying to be set on a copy of a slice from a DataFrame.\n",
      "Try using .loc[row_indexer,col_indexer] = value instead\n",
      "\n",
      "See the caveats in the documentation: https://pandas.pydata.org/pandas-docs/stable/user_guide/indexing.html#returning-a-view-versus-a-copy\n",
      "  df_agr['Agr_Production_Value'] = df_agr['Agr_Production_Value'] * 10 ** 6\n",
      "<ipython-input-7-6512a5b0b428>:7: SettingWithCopyWarning: \n",
      "A value is trying to be set on a copy of a slice from a DataFrame.\n",
      "Try using .loc[row_indexer,col_indexer] = value instead\n",
      "\n",
      "See the caveats in the documentation: https://pandas.pydata.org/pandas-docs/stable/user_guide/indexing.html#returning-a-view-versus-a-copy\n",
      "  df_agr['Element'] = 'Gross Production Value (constant 2014-2016 US$)'\n"
     ]
    }
   ],
   "source": [
    "# select only aggregates\n",
    "agr_aggregates = ['Agriculture (PIN)', 'Crops (PIN)', 'Livestock (PIN)']\n",
    "df_agr = df_agr[df_agr.Item.isin(agr_aggregates)]\n",
    "\n",
    "# change units from $mm to $s\n",
    "df_agr['Agr_Production_Value'] = df_agr['Agr_Production_Value'] * 10 ** 6\n",
    "df_agr['Element'] = 'Gross Production Value (constant 2014-2016 US$)'"
   ]
  },
  {
   "cell_type": "code",
   "execution_count": 8,
   "metadata": {},
   "outputs": [],
   "source": [
    "df_combo = df_agr.merge(df_inp, on=['Area', 'Year'])\n",
    "df_combo = df_combo.merge(df_emi, on=['Area', 'Year'])"
   ]
  },
  {
   "cell_type": "code",
   "execution_count": 9,
   "metadata": {},
   "outputs": [],
   "source": [
    "df_combo['Agr Production per Fertilizer Inp'] = df_combo['Agr_Production_Value'].div(df_combo['Fertilizer_Value'], axis=0)\n",
    "df_combo['Agr Production per Emissions'] = df_combo['Agr_Production_Value'].div(df_combo['Emissions_Value'], axis=0)"
   ]
  },
  {
   "cell_type": "code",
   "execution_count": 10,
   "metadata": {},
   "outputs": [],
   "source": [
    "# Begin plots"
   ]
  },
  {
   "cell_type": "code",
   "execution_count": 11,
   "metadata": {},
   "outputs": [],
   "source": [
    "def unique_sorted_values(array):\n",
    "    unique = array.unique().tolist()\n",
    "    unique.sort()\n",
    "    return unique"
   ]
  },
  {
   "cell_type": "code",
   "execution_count": 12,
   "metadata": {},
   "outputs": [],
   "source": [
    "def CAGR(init_year, term_year, init_val, term_val):\n",
    "    total_growth = term_val / init_val\n",
    "    num_years = term_year - init_year\n",
    "    ann_growth = total_growth**(1/num_years)-1\n",
    "    return ann_growth"
   ]
  },
  {
   "cell_type": "code",
   "execution_count": 13,
   "metadata": {},
   "outputs": [
    {
     "data": {
      "application/vnd.jupyter.widget-view+json": {
       "model_id": "158a1043580d450ea2cbb5b514d362f6",
       "version_major": 2,
       "version_minor": 0
      },
      "text/plain": [
       "Dropdown(options=('Africa', 'Americas', 'Asia', 'Australia and New Zealand', 'Caribbean', 'Central America', '…"
      ]
     },
     "metadata": {},
     "output_type": "display_data"
    },
    {
     "data": {
      "application/vnd.jupyter.widget-view+json": {
       "model_id": "c0835f74458f4121bac8259d0c389b87",
       "version_major": 2,
       "version_minor": 0
      },
      "text/plain": [
       "Output()"
      ]
     },
     "metadata": {},
     "output_type": "display_data"
    }
   ],
   "source": [
    "# Agriculture production plot\n",
    "\n",
    "def common_filtering_ag_prod(area):\n",
    "    plot_output_ag_prod.clear_output()\n",
    "    \n",
    "    common_filter_ag_prod = df_agr[df_agr.Area == area]\n",
    "    \n",
    "    with plot_output_ag_prod:\n",
    "        fig_ag_prod = px.line(common_filter_ag_prod, x=\"Year\", y=\"Agr_Production_Value\", color='Item')\n",
    "        fig_ag_prod.update_layout(yaxis_title='Production Value (2014-2016 USD)',\n",
    "                      title='Agricultural Production Value')\n",
    "        fig_ag_prod.show()\n",
    "\n",
    "def dropdown_area_eventhandler_ag_prod(change):\n",
    "    common_filtering_ag_prod(change.new)\n",
    "\n",
    "\n",
    "plot_output_ag_prod = widgets.Output()\n",
    "\n",
    "# dropdown_area_ag_prod = widgets.Dropdown(options = unique_sorted_values(df_agr.Area))\n",
    "dropdown_area_ag_prod = widgets.Dropdown(options=sorted(df_agr.Area.unique()))\n",
    "\n",
    "# how to send dropdown_area_eventhandler with dataframe as argument so I don't need to write these functions for each plot?\n",
    "dropdown_area_ag_prod.observe(dropdown_area_eventhandler_ag_prod, names='value') \n",
    "display(dropdown_area_ag_prod)\n",
    "display(plot_output_ag_prod)"
   ]
  },
  {
   "cell_type": "markdown",
   "metadata": {},
   "source": [
    "Total global agricultural production, including all crops and livestock, grew from $2.8 trillion in 2000 to $4.1 trillion in 2018, a compound annual growth rate of 0.7%"
   ]
  },
  {
   "cell_type": "code",
   "execution_count": 14,
   "metadata": {},
   "outputs": [
    {
     "data": {
      "application/vnd.jupyter.widget-view+json": {
       "model_id": "24909bfef6544c679d66e1e494078a08",
       "version_major": 2,
       "version_minor": 0
      },
      "text/plain": [
       "Dropdown(options=('Africa', 'Americas', 'Asia', 'Australia and New Zealand', 'Caribbean', 'Central America', '…"
      ]
     },
     "metadata": {},
     "output_type": "display_data"
    },
    {
     "data": {
      "application/vnd.jupyter.widget-view+json": {
       "model_id": "82cb9b31fde34c1fb910023c2bcadacc",
       "version_major": 2,
       "version_minor": 0
      },
      "text/plain": [
       "Output()"
      ]
     },
     "metadata": {},
     "output_type": "display_data"
    }
   ],
   "source": [
    "# Fertilizer use plot\n",
    "\n",
    "def common_filtering_fert(area):\n",
    "    plot_output_fert.clear_output()\n",
    "    \n",
    "    common_filter_fert = df_inp[df_inp.Area == area]\n",
    "    \n",
    "    with plot_output_fert:\n",
    "        fig_fert = px.line(common_filter_fert, x=\"Year\", y=\"Fertilizer_Value\", color='Item')\n",
    "        fig_fert.update_layout(yaxis_title='Fertilizer (tonnes)',\n",
    "                      title='Agricultural Fertilizer Use')\n",
    "        fig_fert.show()\n",
    "\n",
    "def dropdown_area_eventhandler_fert(change):\n",
    "    common_filtering_fert(change.new)\n",
    "\n",
    "\n",
    "plot_output_fert = widgets.Output()\n",
    "\n",
    "dropdown_area_fert = widgets.Dropdown(options = unique_sorted_values(df_agr.Area))\n",
    "\n",
    "# how to send dropdown_area_eventhandler with dataframe as argument so I don't need to write these functions for each plot?\n",
    "dropdown_area_fert.observe(dropdown_area_eventhandler_fert, names='value')\n",
    "display(dropdown_area_fert)\n",
    "display(plot_output_fert)"
   ]
  },
  {
   "cell_type": "markdown",
   "metadata": {},
   "source": [
    "Total global agricultural use of Nitrogen, Phosphate, and Potash grew at a 1.9% CAGR from 135 million tonnes in 2000 to 188 million tons in 2018. Fertilizer use grew more rapidly than overall agricultural production value, implying increased intensity of fertilizer usage over the past two decades. Use of nintrogen increased most rapidly, with phosphate usage increasing at a relatively lower rate of 0.013%."
   ]
  },
  {
   "cell_type": "code",
   "execution_count": 15,
   "metadata": {},
   "outputs": [
    {
     "data": {
      "application/vnd.jupyter.widget-view+json": {
       "model_id": "69a29fd7fc9a440d84ff8b7b55fcd4db",
       "version_major": 2,
       "version_minor": 0
      },
      "text/plain": [
       "Dropdown(options=('Africa', 'Americas', 'Asia', 'Australia and New Zealand', 'Caribbean', 'Central America', '…"
      ]
     },
     "metadata": {},
     "output_type": "display_data"
    },
    {
     "data": {
      "application/vnd.jupyter.widget-view+json": {
       "model_id": "0b800df148e94b2793ebfbcc97f2c610",
       "version_major": 2,
       "version_minor": 0
      },
      "text/plain": [
       "Output()"
      ]
     },
     "metadata": {},
     "output_type": "display_data"
    }
   ],
   "source": [
    "# Emissions plot\n",
    "\n",
    "def common_filtering_emi(area):\n",
    "    plot_output_emi.clear_output()\n",
    "    \n",
    "    common_filter_emi = df_emi[df_emi.Area == area]\n",
    "    \n",
    "    with plot_output_emi:\n",
    "        fig_emi = px.line(common_filter_emi, x=\"Year\", y=\"Emissions_Value\", color='Item')\n",
    "        fig_emi.update_layout(yaxis_title='Emissions in CO2eq (gigagrams)',\n",
    "                      title='Agricultural Emissions of CH4 and NO2 in CO2 Equivalent')\n",
    "        fig_emi.show()\n",
    "\n",
    "def dropdown_area_eventhandler_emi(change):\n",
    "    common_filtering_emi(change.new)\n",
    "\n",
    "\n",
    "plot_output_emi = widgets.Output()\n",
    "\n",
    "dropdown_area_emi = widgets.Dropdown(options = unique_sorted_values(df_agr.Area))\n",
    "\n",
    "# how to send dropdown_area_eventhandler with dataframe as argument so I don't need to write these functions for each plot?\n",
    "dropdown_area_emi.observe(dropdown_area_eventhandler_emi, names='value')\n",
    "display(dropdown_area_emi)\n",
    "display(plot_output_emi)"
   ]
  },
  {
   "cell_type": "markdown",
   "metadata": {},
   "source": [
    "Agricultural emissions of CH4 and NO2 grew at a 0.007% from 4.7 million gigagrams of CO2 equivalent to 5.3 million Gigagrams of CO2 equivalent (equivalent to 5.3 Gigatonnes). Agricultural emissions come primarily from enteric fermentation and emissions released from agricultural soils, each representing 2.1 million Gigagrams, or 40%, of the 5.3 million Gigagram CO2eq total emissions in 2018."
   ]
  },
  {
   "cell_type": "code",
   "execution_count": 16,
   "metadata": {},
   "outputs": [
    {
     "data": {
      "application/vnd.jupyter.widget-view+json": {
       "model_id": "90d371f4f11f4731b786c37deebc48a6",
       "version_major": 2,
       "version_minor": 0
      },
      "text/plain": [
       "Dropdown(options=('Africa', 'Americas', 'Asia', 'Australia and New Zealand', 'Caribbean', 'Central America', '…"
      ]
     },
     "metadata": {},
     "output_type": "display_data"
    },
    {
     "data": {
      "application/vnd.jupyter.widget-view+json": {
       "model_id": "8157bbc6e73843349cafa8bfa1f5a1f3",
       "version_major": 2,
       "version_minor": 0
      },
      "text/plain": [
       "Output()"
      ]
     },
     "metadata": {},
     "output_type": "display_data"
    }
   ],
   "source": [
    "# Emissions per production plot\n",
    "\n",
    "def common_filtering_emi_ag(area):\n",
    "    plot_output_emi_ag.clear_output()\n",
    "    \n",
    "    common_filter_emi_ag = df_combo[(df_combo.Area == area) & (df_combo.Item == \"Agriculture total\")]\n",
    "    \n",
    "    with plot_output_emi_ag:\n",
    "        fig_emi_ag = px.line(common_filter_emi_ag, x=\"Year\", y=\"Agr Production per Emissions\", color='Item_x')\n",
    "        fig_emi_ag.update_layout(yaxis_title='Agricultural Production (2014-2016 USD) per gigagram of CO2eq Emissions',\n",
    "                      title='Agricultural Production per gigagram of CO2eq Emissions')\n",
    "        fig_emi_ag.show()\n",
    "\n",
    "def dropdown_area_eventhandler_emi_ag(change):\n",
    "    common_filtering_emi_ag(change.new)\n",
    "\n",
    "\n",
    "plot_output_emi_ag = widgets.Output()\n",
    "\n",
    "dropdown_area_emi_ag = widgets.Dropdown(options = unique_sorted_values(df_agr.Area))\n",
    "\n",
    "# how to send dropdown_area_eventhandler with dataframe as argument so I don't need to write these functions for each plot?\n",
    "dropdown_area_emi_ag.observe(dropdown_area_eventhandler_emi_ag, names='value')\n",
    "display(dropdown_area_emi_ag)\n",
    "display(plot_output_emi_ag)"
   ]
  },
  {
   "cell_type": "markdown",
   "metadata": {},
   "source": [
    "Agricultural production has become less emissions intensive on a per dollar basis over the past two decades. Total agricultural production per gigagram of CO2eq emissions increased from approximately $606K in 2000 to $769K in 2018."
   ]
  },
  {
   "cell_type": "code",
   "execution_count": 17,
   "metadata": {},
   "outputs": [
    {
     "data": {
      "application/vnd.jupyter.widget-view+json": {
       "model_id": "63afff33fb0e42519977c0ca04ce867c",
       "version_major": 2,
       "version_minor": 0
      },
      "text/plain": [
       "Dropdown(options=('Africa', 'Americas', 'Asia', 'Australia and New Zealand', 'Caribbean', 'Central America', '…"
      ]
     },
     "metadata": {},
     "output_type": "display_data"
    },
    {
     "data": {
      "application/vnd.jupyter.widget-view+json": {
       "model_id": "490b841f5df2485b96f09af9a3fa6a12",
       "version_major": 2,
       "version_minor": 0
      },
      "text/plain": [
       "Output()"
      ]
     },
     "metadata": {},
     "output_type": "display_data"
    }
   ],
   "source": [
    "# Phosphate per production plot\n",
    "\n",
    "def common_filtering_phos_ag(area):\n",
    "    plot_output_phos_ag.clear_output()\n",
    "    \n",
    "    common_filter_phos_ag = df_combo[(df_combo.Area == area) & (df_combo.Item_y == \"Nutrient phosphate P2O5 (total)\")]\n",
    "    \n",
    "    with plot_output_phos_ag:\n",
    "        fig_phos_ag = px.line(common_filter_phos_ag, x=\"Year\", y=\"Agr Production per Fertilizer Inp\", color='Item_x')\n",
    "        fig_phos_ag.update_layout(yaxis_title='Agricultural Production (2014-2016 USD) per Phosphate P2O5 (tonnes)',\n",
    "                      title='Agricultural Production per Phosphate Usage')\n",
    "        fig_phos_ag.show()\n",
    "\n",
    "def dropdown_area_eventhandler_phos_ag(change):\n",
    "    common_filtering_phos_ag(change.new)\n",
    "\n",
    "\n",
    "plot_output_phos_ag = widgets.Output()\n",
    "\n",
    "dropdown_area_phos_ag = widgets.Dropdown(options = unique_sorted_values(df_agr.Area))\n",
    "\n",
    "# how to send dropdown_area_eventhandler with dataframe as argument so I don't need to write these functions for each plot?\n",
    "dropdown_area_phos_ag.observe(dropdown_area_eventhandler_phos_ag, names='value')\n",
    "display(dropdown_area_phos_ag)\n",
    "display(plot_output_phos_ag)"
   ]
  },
  {
   "cell_type": "markdown",
   "metadata": {},
   "source": [
    "We have also seen an increase in global agricultural production value per tonne of phosphate usage between 2000 and 2018, although most of the increase came between 2016 and 2018, with 2016 having roughly the same value per tonne of phosphate as 2016. "
   ]
  }
 ],
 "metadata": {
  "kernelspec": {
   "display_name": "Python 3",
   "language": "python",
   "name": "python3"
  },
  "language_info": {
   "codemirror_mode": {
    "name": "ipython",
    "version": 3
   },
   "file_extension": ".py",
   "mimetype": "text/x-python",
   "name": "python",
   "nbconvert_exporter": "python",
   "pygments_lexer": "ipython3",
   "version": "3.8.5"
  }
 },
 "nbformat": 4,
 "nbformat_minor": 4
}
