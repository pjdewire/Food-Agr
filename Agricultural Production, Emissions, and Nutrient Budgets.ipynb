{
 "cells": [
  {
   "cell_type": "code",
   "execution_count": 2,
   "metadata": {},
   "outputs": [],
   "source": [
    "import pandas as pd\n",
    "import plotly\n",
    "import plotly.express as px\n",
    "import ipywidgets as widgets\n",
    "from IPython.display import display"
   ]
  },
  {
   "cell_type": "code",
   "execution_count": 2,
   "metadata": {},
   "outputs": [],
   "source": [
    "# df_agr = pd.read_csv('~/Documents/Energy Research/Value_of_Production_E_All_Area_Groups_NOFLAG.csv', encoding='latin1')\n",
    "# df_emi = pd.read_csv('~/Documents/Energy Research/Emissions_Agriculture_Agriculture_total_E_All_Area_Groups_NOFLAG.csv', encoding='latin1')\n",
    "# df_inp = pd.read_csv('~/Documents/Energy Research/Inputs_FertilizersNutrient_E_All_Area_Groups_NOFLAG.csv', encoding='latin1')"
   ]
  },
  {
   "cell_type": "code",
   "execution_count": 3,
   "metadata": {},
   "outputs": [],
   "source": [
    "df_agr = pd.read_csv('Value_of_Production_E_All_Area_Groups_NOFLAG.csv', encoding='latin1')\n",
    "df_emi = pd.read_csv('Emissions_Agriculture_Agriculture_total_E_All_Area_Groups_NOFLAG.csv', encoding='latin1')\n",
    "df_inp = pd.read_csv('Inputs_FertilizersNutrient_E_All_Area_Groups_NOFLAG.csv', encoding='latin1')"
   ]
  },
  {
   "cell_type": "code",
   "execution_count": 4,
   "metadata": {},
   "outputs": [],
   "source": [
    "df_agr = df_agr[df_agr['Element'] == 'Gross Production Value (constant 2014-2016 million US$)']\n",
    "df_emi = df_emi[df_emi['Element'] == 'Emissions (CO2eq)']\n",
    "df_inp = df_inp[df_inp['Element'] == 'Agricultural Use']"
   ]
  },
  {
   "cell_type": "code",
   "execution_count": 5,
   "metadata": {},
   "outputs": [],
   "source": [
    "shared_id_vars = ['Area Code', 'Area', 'Item Code', 'Item', 'Element Code', 'Element', 'Unit']"
   ]
  },
  {
   "cell_type": "code",
   "execution_count": 5,
   "metadata": {},
   "outputs": [],
   "source": [
    "df_agr = df_agr.melt(id_vars = shared_id_vars, var_name = \"Year\")\n",
    "df_emi = df_emi.melt(id_vars = shared_id_vars, var_name = \"Year\")\n",
    "df_inp = df_inp.melt(id_vars = shared_id_vars, var_name = \"Year\")"
   ]
  },
  {
   "cell_type": "code",
   "execution_count": 6,
   "metadata": {},
   "outputs": [],
   "source": [
    "necessary_id_vars = ['Area', 'Item', 'Element', 'Unit', 'Year', 'value']\n",
    "df_agr = df_agr[necessary_id_vars]\n",
    "df_emi = df_emi[necessary_id_vars]\n",
    "df_inp = df_inp[necessary_id_vars]"
   ]
  },
  {
   "cell_type": "code",
   "execution_count": 7,
   "metadata": {},
   "outputs": [],
   "source": [
    "# Add subtotals\n",
    "df_inp_subtotals = pd.DataFrame(columns=['Area', 'Item', 'Element', 'Unit', 'Year', 'value'])\n",
    "for x, d in df_inp.groupby(['Area', 'Year']):\n",
    "    subt = pd.DataFrame([[x[0], 'Total Fertilizer', 'Agricultural Use', 'tonnes', x[1], d.value.sum()]], columns=['Area', 'Item', 'Element', 'Unit', 'Year', 'value'])\n",
    "    df_inp = df_inp.append(subt)\n",
    "\n",
    "# Remove projections\n",
    "df_emi = df_emi[df_emi.Year != 'Y2019']\n",
    "df_emi = df_emi[df_emi.Year != 'Y2030']\n",
    "df_emi = df_emi[df_emi.Year != 'Y2050']"
   ]
  },
  {
   "cell_type": "code",
   "execution_count": 8,
   "metadata": {},
   "outputs": [],
   "source": [
    "# select only aggregates\n",
    "df_agr = df_agr[(df_agr.Item == 'Agriculture (PIN)') | (df_agr.Item == 'Crops (PIN)') | (df_agr.Item == 'Livestock (PIN)')]\n",
    "\n",
    "# change units from $mm to $s\n",
    "df_agr['value'] = df_agr['value'].multiply(1000000)\n",
    "df_agr['Element'] = 'Gross Production Value (constant 2014-2016 US$)'"
   ]
  },
  {
   "cell_type": "code",
   "execution_count": 9,
   "metadata": {},
   "outputs": [],
   "source": [
    "df_combo = df_agr.merge(df_inp, on=['Area', 'Year'])"
   ]
  },
  {
   "cell_type": "code",
   "execution_count": 10,
   "metadata": {},
   "outputs": [],
   "source": [
    "df_combo['Prod per inp'] = df_combo['value_x'].div(df_combo['value_y'], axis=0)"
   ]
  },
  {
   "cell_type": "code",
   "execution_count": 11,
   "metadata": {},
   "outputs": [],
   "source": [
    "df_combo = df_combo.merge(df_emi, on=['Area', 'Year'])"
   ]
  },
  {
   "cell_type": "code",
   "execution_count": 12,
   "metadata": {},
   "outputs": [],
   "source": [
    "df_combo['Prod per emi'] = df_combo['value_x'].div(df_combo['value'], axis=0)"
   ]
  },
  {
   "cell_type": "code",
   "execution_count": 13,
   "metadata": {},
   "outputs": [],
   "source": [
    "# Begin plots"
   ]
  },
  {
   "cell_type": "code",
   "execution_count": 14,
   "metadata": {},
   "outputs": [],
   "source": [
    "def unique_sorted_values(array):\n",
    "    unique = array.unique().tolist()\n",
    "    unique.sort()\n",
    "    return unique"
   ]
  },
  {
   "cell_type": "code",
   "execution_count": 15,
   "metadata": {},
   "outputs": [
    {
     "data": {
      "application/vnd.jupyter.widget-view+json": {
       "model_id": "d40473741f0f49dea473f2a771552f69",
       "version_major": 2,
       "version_minor": 0
      },
      "text/plain": [
       "Dropdown(options=('Africa', 'Americas', 'Asia', 'Australia and New Zealand', 'Caribbean', 'Central America', '…"
      ]
     },
     "metadata": {},
     "output_type": "display_data"
    },
    {
     "data": {
      "application/vnd.jupyter.widget-view+json": {
       "model_id": "2afb39a9819b4558b9522862fe4552da",
       "version_major": 2,
       "version_minor": 0
      },
      "text/plain": [
       "Output()"
      ]
     },
     "metadata": {},
     "output_type": "display_data"
    }
   ],
   "source": [
    "# Agriculture production plot\n",
    "\n",
    "def common_filtering_ag_prod(area):\n",
    "    plot_output_ag_prod.clear_output()\n",
    "    \n",
    "    common_filter_ag_prod = df_agr[df_agr.Area == area]\n",
    "    \n",
    "    with plot_output_ag_prod:\n",
    "        fig_ag_prod = px.line(common_filter_ag_prod, x=\"Year\", y=\"value\", color='Item')\n",
    "        fig_ag_prod.update_layout(yaxis_title='Production Value (2014-2016 USD)',\n",
    "                      title='Agricultural Production Value')\n",
    "        fig_ag_prod.show()\n",
    "\n",
    "def dropdown_area_eventhandler(change):\n",
    "    common_filtering_ag_prod(change.new)\n",
    "\n",
    "\n",
    "plot_output_ag_prod = widgets.Output()\n",
    "\n",
    "dropdown_area_ag_prod = widgets.Dropdown(options = unique_sorted_values(df_agr.Area))\n",
    "\n",
    "# how to send dropdown_area_eventhandler with dataframe as argument so I don't need to write these functions for each plot?\n",
    "dropdown_area_ag_prod.observe(dropdown_area_eventhandler, names='value') \n",
    "display(dropdown_area_ag_prod)\n",
    "display(plot_output_ag_prod)"
   ]
  },
  {
   "cell_type": "code",
   "execution_count": 16,
   "metadata": {},
   "outputs": [
    {
     "data": {
      "application/vnd.jupyter.widget-view+json": {
       "model_id": "4b334cb5d79b40c29493114bc004a518",
       "version_major": 2,
       "version_minor": 0
      },
      "text/plain": [
       "Dropdown(options=('Africa', 'Americas', 'Asia', 'Australia and New Zealand', 'Caribbean', 'Central America', '…"
      ]
     },
     "metadata": {},
     "output_type": "display_data"
    },
    {
     "data": {
      "application/vnd.jupyter.widget-view+json": {
       "model_id": "848acc820c0d4ceb801629cad7a08950",
       "version_major": 2,
       "version_minor": 0
      },
      "text/plain": [
       "Output()"
      ]
     },
     "metadata": {},
     "output_type": "display_data"
    }
   ],
   "source": [
    "# Fertilizer use plot\n",
    "\n",
    "def common_filtering_fert(area):\n",
    "    plot_output_fert.clear_output()\n",
    "    \n",
    "    common_filter_fert = df_inp[df_inp.Area == area]\n",
    "    \n",
    "    with plot_output_fert:\n",
    "        fig_fert = px.line(common_filter_fert, x=\"Year\", y=\"value\", color='Item')\n",
    "        fig_fert.update_layout(yaxis_title='Fertilizer (tonnes)',\n",
    "                      title='Agricultural Fertilizer Use')\n",
    "        fig_fert.show()\n",
    "\n",
    "def dropdown_area_eventhandler(change):\n",
    "    common_filtering_fert(change.new)\n",
    "\n",
    "\n",
    "plot_output_fert = widgets.Output()\n",
    "\n",
    "dropdown_area_fert = widgets.Dropdown(options = unique_sorted_values(df_agr.Area))\n",
    "\n",
    "# how to send dropdown_area_eventhandler with dataframe as argument so I don't need to write these functions for each plot?\n",
    "dropdown_area_fert.observe(dropdown_area_eventhandler, names='value')\n",
    "display(dropdown_area_fert)\n",
    "display(plot_output_fert)"
   ]
  },
  {
   "cell_type": "code",
   "execution_count": 17,
   "metadata": {},
   "outputs": [
    {
     "data": {
      "application/vnd.jupyter.widget-view+json": {
       "model_id": "3e06e0798b6341bca8b831ffd89a12a1",
       "version_major": 2,
       "version_minor": 0
      },
      "text/plain": [
       "Dropdown(options=('Africa', 'Americas', 'Asia', 'Australia and New Zealand', 'Caribbean', 'Central America', '…"
      ]
     },
     "metadata": {},
     "output_type": "display_data"
    },
    {
     "data": {
      "application/vnd.jupyter.widget-view+json": {
       "model_id": "7b6aab00374445438f4669379a1a54a6",
       "version_major": 2,
       "version_minor": 0
      },
      "text/plain": [
       "Output()"
      ]
     },
     "metadata": {},
     "output_type": "display_data"
    }
   ],
   "source": [
    "# Emissions plot\n",
    "\n",
    "def common_filtering(area):\n",
    "    plot_output.clear_output()\n",
    "    \n",
    "    common_filter = df_emi[df_emi.Area == area]\n",
    "    \n",
    "    with plot_output:\n",
    "        fig = px.line(common_filter, x=\"Year\", y=\"value\", color='Item')\n",
    "        fig.update_layout(yaxis_title='Emissions in CO2eq (gigagrams)',\n",
    "                      title='Agricultural Emissions of CH4 and NO2 in CO2 Equivalent')\n",
    "        fig.show()\n",
    "\n",
    "def dropdown_area_eventhandler(change):\n",
    "    common_filtering(change.new)\n",
    "\n",
    "\n",
    "plot_output = widgets.Output()\n",
    "\n",
    "dropdown_area = widgets.Dropdown(options = unique_sorted_values(df_agr.Area))\n",
    "\n",
    "# how to send dropdown_area_eventhandler with dataframe as argument so I don't need to write these functions for each plot?\n",
    "dropdown_area.observe(dropdown_area_eventhandler, names='value')\n",
    "display(dropdown_area)\n",
    "display(plot_output)"
   ]
  }
 ],
 "metadata": {
  "kernelspec": {
   "display_name": "Python 3",
   "language": "python",
   "name": "python3"
  },
  "language_info": {
   "codemirror_mode": {
    "name": "ipython",
    "version": 3
   },
   "file_extension": ".py",
   "mimetype": "text/x-python",
   "name": "python",
   "nbconvert_exporter": "python",
   "pygments_lexer": "ipython3",
   "version": "3.8.5"
  }
 },
 "nbformat": 4,
 "nbformat_minor": 4
}
