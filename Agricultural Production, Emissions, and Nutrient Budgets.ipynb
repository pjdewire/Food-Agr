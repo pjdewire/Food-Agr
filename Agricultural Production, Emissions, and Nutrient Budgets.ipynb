{
 "cells": [
  {
   "cell_type": "code",
   "execution_count": 1,
   "metadata": {},
   "outputs": [],
   "source": [
    "import pandas as pd\n",
    "import plotly\n",
    "import plotly.express as px\n",
    "import ipywidgets as widgets\n",
    "from IPython.display import display"
   ]
  },
  {
   "cell_type": "code",
   "execution_count": 2,
   "metadata": {},
   "outputs": [],
   "source": [
    "# df_agr = pd.read_csv('~/Documents/Energy Research/Value_of_Production_E_All_Area_Groups_NOFLAG.csv', encoding='latin1')\n",
    "# df_emi = pd.read_csv('~/Documents/Energy Research/Emissions_Agriculture_Agriculture_total_E_All_Area_Groups_NOFLAG.csv', encoding='latin1')\n",
    "# df_inp = pd.read_csv('~/Documents/Energy Research/Inputs_FertilizersNutrient_E_All_Area_Groups_NOFLAG.csv', encoding='latin1')"
   ]
  },
  {
   "cell_type": "code",
   "execution_count": 3,
   "metadata": {},
   "outputs": [],
   "source": [
    "shared_id_vars = ['Area Code', 'Area', 'Item Code', 'Item', 'Element Code', 'Element', 'Unit']\n",
    "necessary_id_vars = ['Area', 'Item', 'Element', 'Unit', 'Year', 'value']"
   ]
  },
  {
   "cell_type": "code",
   "execution_count": 4,
   "metadata": {},
   "outputs": [],
   "source": [
    "df_configs = {\n",
    "    'df_agr': {\n",
    "        'filename': 'Value_of_Production_E_All_Area_Groups_NOFLAG.csv',\n",
    "        'element': 'Gross Production Value (constant 2014-2016 million US$)',\n",
    "        'value_name': 'Agr_Production_Value'\n",
    "    },\n",
    "    'df_emi': {\n",
    "        'filename': 'Emissions_Agriculture_Agriculture_total_E_All_Area_Groups_NOFLAG.csv',\n",
    "        'element': 'Emissions (CO2eq)',\n",
    "        'value_name': 'Emissions_Value'\n",
    "    },\n",
    "    'df_inp': {\n",
    "        'filename': 'Inputs_FertilizersNutrient_E_All_Area_Groups_NOFLAG.csv',\n",
    "        'element': 'Agricultural Use',\n",
    "        'value_name': 'Fertilizer_Value'\n",
    "    }\n",
    "}\n",
    "\n",
    "data = {}\n",
    "for df_name, config in df_configs.items():\n",
    "    df = pd.read_csv(config['filename'], encoding='latin1')\n",
    "    df = df.melt(id_vars = shared_id_vars, var_name = 'Year')\n",
    "    df = df[necessary_id_vars]\n",
    "    df = df[df.Element == config['element']]\n",
    "    df = df.rename(columns={'value': config['value_name']})\n",
    "    data[df_name] = df"
   ]
  },
  {
   "cell_type": "code",
   "execution_count": 5,
   "metadata": {},
   "outputs": [],
   "source": [
    "df_agr = data['df_agr']\n",
    "df_emi = data['df_emi']\n",
    "df_inp = data['df_inp']"
   ]
  },
  {
   "cell_type": "code",
   "execution_count": 6,
   "metadata": {},
   "outputs": [],
   "source": [
    "# Add subtotals\n",
    "necessary_inp_columns=['Area', 'Item', 'Element', 'Unit', 'Year', 'Fertilizer_Value']\n",
    "df_inp_subtotals = pd.DataFrame(columns=necessary_inp_columns)\n",
    "for area_year, sub_df in df_inp.groupby(['Area', 'Year']):\n",
    "    subt = pd.DataFrame([[area_year[0], 'Total Fertilizer', 'Agricultural Use', 'tonnes', area_year[1], sub_df.Fertilizer_Value.sum()]], columns=necessary_inp_columns)\n",
    "    df_inp = df_inp.append(subt)\n",
    "\n",
    "# Remove projections\n",
    "projected_years = ['Y2019', 'Y2030', 'Y2050']\n",
    "df_emi = df_emi[~df_emi.Year.isin(projected_years)]"
   ]
  },
  {
   "cell_type": "code",
   "execution_count": 7,
   "metadata": {},
   "outputs": [
    {
     "name": "stderr",
     "output_type": "stream",
     "text": [
      "<ipython-input-7-6512a5b0b428>:6: SettingWithCopyWarning: \n",
      "A value is trying to be set on a copy of a slice from a DataFrame.\n",
      "Try using .loc[row_indexer,col_indexer] = value instead\n",
      "\n",
      "See the caveats in the documentation: https://pandas.pydata.org/pandas-docs/stable/user_guide/indexing.html#returning-a-view-versus-a-copy\n",
      "  df_agr['Agr_Production_Value'] = df_agr['Agr_Production_Value'] * 10 ** 6\n",
      "<ipython-input-7-6512a5b0b428>:7: SettingWithCopyWarning: \n",
      "A value is trying to be set on a copy of a slice from a DataFrame.\n",
      "Try using .loc[row_indexer,col_indexer] = value instead\n",
      "\n",
      "See the caveats in the documentation: https://pandas.pydata.org/pandas-docs/stable/user_guide/indexing.html#returning-a-view-versus-a-copy\n",
      "  df_agr['Element'] = 'Gross Production Value (constant 2014-2016 US$)'\n"
     ]
    }
   ],
   "source": [
    "# select only aggregates\n",
    "agr_aggregates = ['Agriculture (PIN)', 'Crops (PIN)', 'Livestock (PIN)']\n",
    "df_agr = df_agr[df_agr.Item.isin(agr_aggregates)]\n",
    "\n",
    "# change units from $mm to $s\n",
    "df_agr['Agr_Production_Value'] = df_agr['Agr_Production_Value'] * 10 ** 6\n",
    "df_agr['Element'] = 'Gross Production Value (constant 2014-2016 US$)'"
   ]
  },
  {
   "cell_type": "code",
   "execution_count": 8,
   "metadata": {},
   "outputs": [],
   "source": [
    "df_combo = df_agr.merge(df_inp, on=['Area', 'Year'])\n",
    "df_combo = df_combo.merge(df_emi, on=['Area', 'Year'])"
   ]
  },
  {
   "cell_type": "code",
   "execution_count": 9,
   "metadata": {},
   "outputs": [],
   "source": [
    "df_combo['Agr Production per Fertilizer Inp'] = df_combo['Agr_Production_Value'].div(df_combo['Fertilizer_Value'], axis=0)\n",
    "df_combo['Agr Production per Emissions'] = df_combo['Agr_Production_Value'].div(df_combo['Emissions_Value'], axis=0)"
   ]
  },
  {
   "cell_type": "code",
   "execution_count": 10,
   "metadata": {},
   "outputs": [],
   "source": [
    "# Begin plots"
   ]
  },
  {
   "cell_type": "code",
   "execution_count": 11,
   "metadata": {},
   "outputs": [],
   "source": [
    "def unique_sorted_values(array):\n",
    "    unique = array.unique().tolist()\n",
    "    unique.sort()\n",
    "    return unique"
   ]
  },
  {
   "cell_type": "code",
   "execution_count": 12,
   "metadata": {},
   "outputs": [
    {
     "data": {
      "application/vnd.jupyter.widget-view+json": {
       "model_id": "e3b35e5336ac41f6870903d263999474",
       "version_major": 2,
       "version_minor": 0
      },
      "text/plain": [
       "Dropdown(options=('Africa', 'Americas', 'Asia', 'Australia and New Zealand', 'Caribbean', 'Central America', '…"
      ]
     },
     "metadata": {},
     "output_type": "display_data"
    },
    {
     "data": {
      "application/vnd.jupyter.widget-view+json": {
       "model_id": "8cc10fdf662b42eb90c4b48638fbf487",
       "version_major": 2,
       "version_minor": 0
      },
      "text/plain": [
       "Output()"
      ]
     },
     "metadata": {},
     "output_type": "display_data"
    }
   ],
   "source": [
    "# Agriculture production plot\n",
    "\n",
    "def common_filtering_ag_prod(area):\n",
    "    plot_output_ag_prod.clear_output()\n",
    "    \n",
    "    common_filter_ag_prod = df_agr[df_agr.Area == area]\n",
    "    \n",
    "    with plot_output_ag_prod:\n",
    "        fig_ag_prod = px.line(common_filter_ag_prod, x=\"Year\", y=\"Agr_Production_Value\", color='Item')\n",
    "        fig_ag_prod.update_layout(yaxis_title='Production Value (2014-2016 USD)',\n",
    "                      title='Agricultural Production Value')\n",
    "        fig_ag_prod.show()\n",
    "\n",
    "def dropdown_area_eventhandler(change):\n",
    "    common_filtering_ag_prod(change.new)\n",
    "\n",
    "\n",
    "plot_output_ag_prod = widgets.Output()\n",
    "\n",
    "# dropdown_area_ag_prod = widgets.Dropdown(options = unique_sorted_values(df_agr.Area))\n",
    "dropdown_area_ag_prod = widgets.Dropdown(options=sorted(df_agr.Area.unique()))\n",
    "\n",
    "# how to send dropdown_area_eventhandler with dataframe as argument so I don't need to write these functions for each plot?\n",
    "dropdown_area_ag_prod.observe(dropdown_area_eventhandler, names='value') \n",
    "display(dropdown_area_ag_prod)\n",
    "display(plot_output_ag_prod)"
   ]
  },
  {
   "cell_type": "code",
   "execution_count": 13,
   "metadata": {},
   "outputs": [
    {
     "data": {
      "application/vnd.jupyter.widget-view+json": {
       "model_id": "7666b05ba5b04bc7b7d44c65a7578ee0",
       "version_major": 2,
       "version_minor": 0
      },
      "text/plain": [
       "Dropdown(options=('Africa', 'Americas', 'Asia', 'Australia and New Zealand', 'Caribbean', 'Central America', '…"
      ]
     },
     "metadata": {},
     "output_type": "display_data"
    },
    {
     "data": {
      "application/vnd.jupyter.widget-view+json": {
       "model_id": "db51d2a279834809998bcdc9534df9ed",
       "version_major": 2,
       "version_minor": 0
      },
      "text/plain": [
       "Output()"
      ]
     },
     "metadata": {},
     "output_type": "display_data"
    }
   ],
   "source": [
    "# Fertilizer use plot\n",
    "\n",
    "def common_filtering_fert(area):\n",
    "    plot_output_fert.clear_output()\n",
    "    \n",
    "    common_filter_fert = df_inp[df_inp.Area == area]\n",
    "    \n",
    "    with plot_output_fert:\n",
    "        fig_fert = px.line(common_filter_fert, x=\"Year\", y=\"Fertilizer_Value\", color='Item')\n",
    "        fig_fert.update_layout(yaxis_title='Fertilizer (tonnes)',\n",
    "                      title='Agricultural Fertilizer Use')\n",
    "        fig_fert.show()\n",
    "\n",
    "def dropdown_area_eventhandler(change):\n",
    "    common_filtering_fert(change.new)\n",
    "\n",
    "\n",
    "plot_output_fert = widgets.Output()\n",
    "\n",
    "dropdown_area_fert = widgets.Dropdown(options = unique_sorted_values(df_agr.Area))\n",
    "\n",
    "# how to send dropdown_area_eventhandler with dataframe as argument so I don't need to write these functions for each plot?\n",
    "dropdown_area_fert.observe(dropdown_area_eventhandler, names='value')\n",
    "display(dropdown_area_fert)\n",
    "display(plot_output_fert)"
   ]
  },
  {
   "cell_type": "code",
   "execution_count": 14,
   "metadata": {},
   "outputs": [
    {
     "data": {
      "application/vnd.jupyter.widget-view+json": {
       "model_id": "b5deb611e48246f28d456cbe99a35a8f",
       "version_major": 2,
       "version_minor": 0
      },
      "text/plain": [
       "Dropdown(options=('Africa', 'Americas', 'Asia', 'Australia and New Zealand', 'Caribbean', 'Central America', '…"
      ]
     },
     "metadata": {},
     "output_type": "display_data"
    },
    {
     "data": {
      "application/vnd.jupyter.widget-view+json": {
       "model_id": "0e722eafc25a41539c423791b2dd8d37",
       "version_major": 2,
       "version_minor": 0
      },
      "text/plain": [
       "Output()"
      ]
     },
     "metadata": {},
     "output_type": "display_data"
    }
   ],
   "source": [
    "# Emissions plot\n",
    "\n",
    "def common_filtering(area):\n",
    "    plot_output.clear_output()\n",
    "    \n",
    "    common_filter = df_emi[df_emi.Area == area]\n",
    "    \n",
    "    with plot_output:\n",
    "        fig = px.line(common_filter, x=\"Year\", y=\"Emissions_Value\", color='Item')\n",
    "        fig.update_layout(yaxis_title='Emissions in CO2eq (gigagrams)',\n",
    "                      title='Agricultural Emissions of CH4 and NO2 in CO2 Equivalent')\n",
    "        fig.show()\n",
    "\n",
    "def dropdown_area_eventhandler(change):\n",
    "    common_filtering(change.new)\n",
    "\n",
    "\n",
    "plot_output = widgets.Output()\n",
    "\n",
    "dropdown_area = widgets.Dropdown(options = unique_sorted_values(df_agr.Area))\n",
    "\n",
    "# how to send dropdown_area_eventhandler with dataframe as argument so I don't need to write these functions for each plot?\n",
    "dropdown_area.observe(dropdown_area_eventhandler, names='value')\n",
    "display(dropdown_area)\n",
    "display(plot_output)"
   ]
  }
 ],
 "metadata": {
  "kernelspec": {
   "display_name": "Python 3",
   "language": "python",
   "name": "python3"
  },
  "language_info": {
   "codemirror_mode": {
    "name": "ipython",
    "version": 3
   },
   "file_extension": ".py",
   "mimetype": "text/x-python",
   "name": "python",
   "nbconvert_exporter": "python",
   "pygments_lexer": "ipython3",
   "version": "3.8.5"
  }
 },
 "nbformat": 4,
 "nbformat_minor": 4
}
